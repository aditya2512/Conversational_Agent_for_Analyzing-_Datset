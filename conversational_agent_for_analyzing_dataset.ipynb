{
 "cells": [
  
  {
   "cell_type": "code",
   "execution_count": null,
   "id": "55afb6f3",
   "metadata": {},
   "outputs": [],
   "source": [
    "\n",
    "# %pip install -q --upgrade langchain langchain-openai langgraph pandas matplotlib\n"
   ]
  },
  {
   "cell_type": "code",
   "execution_count": null,
   "id": "74d41d70",
   "metadata": {},
   "outputs": [
    {
     "name": "stdout",
     "output_type": "stream",
     "text": [
      "OPENAI_API_KEY found.\n"
     ]
    }
   ],
   "source": [
    "\n",
    "import os\n",
    "import pandas as pd\n",
    "import matplotlib.pyplot as plt\n",
    "from typing import List, Optional, Type, TypedDict\n",
    "\n",
    "from langchain_core.pydantic_v1 import BaseModel, Field\n",
    "\n",
    "from langchain_openai import ChatOpenAI\n",
    "from langchain_core.messages import HumanMessage, AIMessage, BaseMessage\n",
    "from langchain_core.prompts import ChatPromptTemplate, MessagesPlaceholder\n",
    "\n",
    "from langchain.tools import BaseTool\n",
    "from langchain.agents import AgentExecutor, create_openai_tools_agent\n",
    "\n",
    "from langgraph.graph import StateGraph, END\n",
    "\n",
    "\n",
    "# Set OpenAI API Key\n",
    "os.environ[\"OPENAI_API_KEY\"] = \"open-api-key\"  # API key\n",
    "\n",
    "if not os.getenv(\"OPENAI_API_KEY\"):\n",
    "    print(\"OPENAI_API_KEY is not set in your environment.\")\n",
    "else:\n",
    "    print(\"OPENAI_API_KEY found.\")\n"
   ]
  },
  {
   "cell_type": "code",
   "execution_count": 12,
   "id": "1f5b93f2",
   "metadata": {},
   "outputs": [],
   "source": [
    "\n",
    "class AgentState(TypedDict):\n",
    "    messages: List[BaseMessage]\n"
   ]
  },
  {
   "cell_type": "code",
   "execution_count": 13,
   "id": "36379407",
   "metadata": {},
   "outputs": [],
   "source": [
    "\n",
    "# --- LoadDataTool ---\n",
    "class LoadDataArgs(BaseModel):\n",
    "    file_path: str = Field(..., description=\"Path to the CSV file to load\")\n",
    "\n",
    "class LoadDataTool(BaseTool):\n",
    "    name: str = \"load_data\"\n",
    "    description: str = \"Load a CSV file into memory for analysis\"\n",
    "    args_schema: Type[LoadDataArgs] = LoadDataArgs\n",
    "    df: Optional[pd.DataFrame] = None\n",
    "\n",
    "    def _run(self, file_path: str) -> str:\n",
    "        try:\n",
    "            self.df = pd.read_csv(file_path)\n",
    "            return f\"Loaded {len(self.df)} rows x {len(self.df.columns)} columns from {file_path}.\"\n",
    "        except Exception as e:\n",
    "            return f\"Failed to load CSV: {e}\"\n",
    "    \n",
    "    async def _arun(self, file_path: str) -> str:\n",
    "        return self._run(file_path)\n"
   ]
  },
  {
   "cell_type": "code",
   "execution_count": 14,
   "id": "87f0ae61",
   "metadata": {},
   "outputs": [],
   "source": [
    "\n",
    "# --- AnalyzeDataTool ---\n",
    "class AnalyzeDataArgs(BaseModel):\n",
    "    query: str = Field(..., description=\"Simple analysis instruction, e.g., 'head(5)' or 'describe()'\")\n",
    "\n",
    "class AnalyzeDataTool(BaseTool):\n",
    "    name: str = \"analyze_data\"\n",
    "    description: str = \"Analyze the loaded DataFrame: head(n), describe(), columns, value_counts(col), top_by(col, n)\"\n",
    "    args_schema: Type[AnalyzeDataArgs] = AnalyzeDataArgs\n",
    "\n",
    "    load_tool: Optional[LoadDataTool] = None\n",
    "\n",
    "    @classmethod\n",
    "    def from_load_tool(cls, load_tool: \"LoadDataTool\") -> \"AnalyzeDataTool\":\n",
    "        tool = cls()\n",
    "        tool.load_tool = load_tool\n",
    "        return tool\n",
    "\n",
    "    def _run(self, query: str) -> str:\n",
    "        if self.load_tool is None or self.load_tool.df is None:\n",
    "            return \"No data loaded. Use load_data first.\"\n",
    "        df = self.load_tool.df\n",
    "        try:\n",
    "            q = query.strip().lower()\n",
    "            if q.startswith(\"head(\") and q.endswith(\")\"):\n",
    "                n = int(q[len(\"head(\"):-1])\n",
    "                return df.head(n).to_string(index=False)\n",
    "            if q == \"head\":\n",
    "                return df.head(5).to_string(index=False)\n",
    "            if q in (\"describe()\", \"describe\"):\n",
    "                return df.describe(include='all').to_string()\n",
    "            if q == \"columns\":\n",
    "                return \", \".join(map(str, df.columns.tolist()))\n",
    "            if q.startswith(\"value_counts(\") and q.endswith(\")\"):\n",
    "                col = q[len(\"value_counts(\"):-1].strip()\n",
    "                if col not in df.columns:\n",
    "                    return f\"Column '{col}' not found.\"\n",
    "                return df[col].value_counts().to_string()\n",
    "            if q.startswith(\"top_by(\") and q.endswith(\")\"):\n",
    "                inside = q[len(\"top_by(\"):-1]\n",
    "                parts = [p.strip() for p in inside.split(\",\")]\n",
    "                if len(parts) != 2:\n",
    "                    return \"Use: top_by(col, n)\"\n",
    "                col, n = parts[0], int(parts[1])\n",
    "                if col not in df.columns:\n",
    "                    return f\"Column '{col}' not found.\"\n",
    "                return df.nlargest(n, col).to_string(index=False)\n",
    "            return \"Unknown query. Try: head, head(n), describe(), columns, value_counts(col), top_by(col, n).\"\n",
    "        except Exception as e:\n",
    "            return f\"Analyze error: {e}\"\n",
    "    \n",
    "    async def _arun(self, query: str) -> str:\n",
    "        return self._run(query)\n"
   ]
  },
  {
   "cell_type": "code",
   "execution_count": 15,
   "id": "b20175dc",
   "metadata": {},
   "outputs": [],
   "source": [
    "\n",
    "# --- PlotDataTool ---\n",
    "class PlotDataArgs(BaseModel):\n",
    "    command: str = Field(..., description=\"Format: 'plot_type, x_col, y_col, title' where plot_type in {line, bar, scatter}\")\n",
    "\n",
    "class PlotDataTool(BaseTool):\n",
    "    name: str = \"plot_data\"\n",
    "    description: str = \"Create a matplotlib chart from the loaded DataFrame\"\n",
    "    args_schema: Type[PlotDataArgs] = PlotDataArgs\n",
    "\n",
    "    load_tool: Optional[LoadDataTool] = None\n",
    "\n",
    "    @classmethod\n",
    "    def from_load_tool(cls, load_tool: \"LoadDataTool\") -> \"PlotDataTool\":\n",
    "        tool = cls()\n",
    "        tool.load_tool = load_tool\n",
    "        return tool\n",
    "\n",
    "    def _run(self, command: str) -> str:\n",
    "        if self.load_tool is None or self.load_tool.df is None:\n",
    "            return \"No data loaded. Use load_data first.\"\n",
    "        df = self.load_tool.df\n",
    "        parts = [p.strip() for p in command.split(\",\")]\n",
    "        if len(parts) != 4:\n",
    "            return \"Use: 'plot_type, x_col, y_col, title'\"\n",
    "        plot_type, x, y, title = parts\n",
    "        if x not in df.columns or y not in df.columns:\n",
    "            return f\"Columns '{x}' or '{y}' not found. Available: {', '.join(df.columns)}\"\n",
    "        try:\n",
    "            plt.figure()\n",
    "            if plot_type == \"line\":\n",
    "                plt.plot(df[x], df[y])\n",
    "            elif plot_type == \"bar\":\n",
    "                plt.bar(df[x], df[y])\n",
    "            elif plot_type == \"scatter\":\n",
    "                plt.scatter(df[x], df[y])\n",
    "            else:\n",
    "                return \"plot_type must be one of: line, bar, scatter\"\n",
    "            plt.xlabel(x)\n",
    "            plt.ylabel(y)\n",
    "            plt.title(title)\n",
    "            plt.show()\n",
    "            return \"Plot created.\"\n",
    "        except Exception as e:\n",
    "            return f\"Plot error: {e}\"\n",
    "    \n",
    "    async def _arun(self, command: str) -> str:\n",
    "        return self._run(command)\n"
   ]
  },
  {
   "cell_type": "code",
   "execution_count": 16,
   "id": "5d1f8b7e",
   "metadata": {},
   "outputs": [
    {
     "name": "stdout",
     "output_type": "stream",
     "text": [
      "Agent initialized\n"
     ]
    }
   ],
   "source": [
    "\n",
    "# Instantiate tools\n",
    "load_tool = LoadDataTool()\n",
    "analyze_tool = AnalyzeDataTool.from_load_tool(load_tool)\n",
    "plot_tool = PlotDataTool.from_load_tool(load_tool)\n",
    "tools = [load_tool, analyze_tool, plot_tool]\n",
    "\n",
    "# LLM & Prompt with placeholders\n",
    "llm = ChatOpenAI(model=\"gpt-4o-mini\", temperature=0)\n",
    "\n",
    "prompt = ChatPromptTemplate.from_messages([\n",
    "    (\"system\", \"You are a helpful data analysis assistant. Use tools when needed. Be concise and actionable.\"),\n",
    "    MessagesPlaceholder(\"chat_history\"),\n",
    "    (\"human\", \"{input}\"),\n",
    "    MessagesPlaceholder(\"agent_scratchpad\"),\n",
    "])\n",
    "\n",
    "agent = create_openai_tools_agent(llm, tools, prompt)\n",
    "agent_executor = AgentExecutor(agent=agent, tools=tools, handle_parsing_errors=True)\n",
    "print(\"Agent initialized\")\n"
   ]
  },
  {
   "cell_type": "code",
   "execution_count": 17,
   "id": "c3b5c38a",
   "metadata": {},
   "outputs": [
    {
     "name": "stdout",
     "output_type": "stream",
     "text": [
      "LangGraph compiled\n"
     ]
    }
   ],
   "source": [
    "\n",
    "def agent_node(state: AgentState) -> AgentState:\n",
    "    msgs = state[\"messages\"]\n",
    "    if not msgs:\n",
    "        return state\n",
    "    last = msgs[-1]\n",
    "    if not isinstance(last, HumanMessage):\n",
    "        last = HumanMessage(content=getattr(last, \"content\", str(last)))\n",
    "    chat_history = msgs[:-1]\n",
    "    result = agent_executor.invoke({\"input\": last.content, \"chat_history\": chat_history})\n",
    "    output_text = result.get(\"output\") or result.get(\"output_text\") or str(result)\n",
    "    state[\"messages\"].append(AIMessage(content=output_text))\n",
    "    return state\n",
    "\n",
    "graph = StateGraph(AgentState)\n",
    "graph.add_node(\"agent\", agent_node)\n",
    "graph.set_entry_point(\"agent\")\n",
    "graph.add_edge(\"agent\", END)\n",
    "app = graph.compile()\n",
    "print(\"LangGraph compiled\")\n"
   ]
  },
  {
   "cell_type": "code",
   "execution_count": 18,
   "id": "3ca6b906",
   "metadata": {},
   "outputs": [],
   "source": [
    "\n",
    "def run_turn(user_text: str, history: Optional[List[BaseMessage]] = None) -> List[BaseMessage]:\n",
    "    if history is None:\n",
    "        history = []\n",
    "    state: AgentState = {\"messages\": history + [HumanMessage(content=user_text)]}\n",
    "    out = app.invoke(state)\n",
    "    return out[\"messages\"]\n"
   ]
  },
  {
   "cell_type": "code",
   "execution_count": null,
   "id": "657ebe13",
   "metadata": {},
   "outputs": [
    {
     "data": {
      "text/html": [
       "<div>\n",
       "<style scoped>\n",
       "    .dataframe tbody tr th:only-of-type {\n",
       "        vertical-align: middle;\n",
       "    }\n",
       "\n",
       "    .dataframe tbody tr th {\n",
       "        vertical-align: top;\n",
       "    }\n",
       "\n",
       "    .dataframe thead th {\n",
       "        text-align: right;\n",
       "    }\n",
       "</style>\n",
       "<table border=\"1\" class=\"dataframe\">\n",
       "  <thead>\n",
       "    <tr style=\"text-align: right;\">\n",
       "      <th></th>\n",
       "      <th>month</th>\n",
       "      <th>revenue</th>\n",
       "      <th>units</th>\n",
       "    </tr>\n",
       "  </thead>\n",
       "  <tbody>\n",
       "    <tr>\n",
       "      <th>0</th>\n",
       "      <td>Jan</td>\n",
       "      <td>1200</td>\n",
       "      <td>120</td>\n",
       "    </tr>\n",
       "    <tr>\n",
       "      <th>1</th>\n",
       "      <td>Feb</td>\n",
       "      <td>1500</td>\n",
       "      <td>140</td>\n",
       "    </tr>\n",
       "    <tr>\n",
       "      <th>2</th>\n",
       "      <td>Mar</td>\n",
       "      <td>1600</td>\n",
       "      <td>150</td>\n",
       "    </tr>\n",
       "    <tr>\n",
       "      <th>3</th>\n",
       "      <td>Apr</td>\n",
       "      <td>900</td>\n",
       "      <td>90</td>\n",
       "    </tr>\n",
       "    <tr>\n",
       "      <th>4</th>\n",
       "      <td>May</td>\n",
       "      <td>1800</td>\n",
       "      <td>175</td>\n",
       "    </tr>\n",
       "  </tbody>\n",
       "</table>\n",
       "</div>"
      ],
      "text/plain": [
       "  month  revenue  units\n",
       "0   Jan     1200    120\n",
       "1   Feb     1500    140\n",
       "2   Mar     1600    150\n",
       "3   Apr      900     90\n",
       "4   May     1800    175"
      ]
     },
     "execution_count": 19,
     "metadata": {},
     "output_type": "execute_result"
    }
   ],
   "source": [
    "\n",
    "#demo CSV\n",
    "# toy_path = \"sample.csv\"\n",
    "# toy_df = pd.DataFrame({\n",
    "#     \"month\": [\"Jan\",\"Feb\",\"Mar\",\"Apr\",\"May\",\"Jun\"],\n",
    "#     \"revenue\": [1200, 1500, 1600, 900, 1800, 2100],\n",
    "#     \"units\": [120, 140, 150, 90, 175, 195]\n",
    "# })\n",
    "# toy_df.to_csv(toy_path, index=False)\n",
    "# toy_df.head()\n"
   ]
  },
  {
   "cell_type": "code",
   "execution_count": null,
   "id": "b410ec49",
   "metadata": {},
   "outputs": [
    {
     "name": "stdout",
     "output_type": "stream",
     "text": [
      " Chat ready. Type your message. Type 'quit' to stop.\n",
      "Human: Load the dataset\n",
      "Assistant: Please provide the path to the CSV file you would like to load.\n",
      "\n",
      "Human: sample_sales.csv\n",
      "Assistant: The dataset has been successfully loaded, containing 10 rows and 5 columns. How would you like to proceed with the analysis?\n",
      "\n",
      "Human: describe the dataset\n",
      "Assistant: Here is the summary of the dataset:\n",
      "\n",
      "- **Date**: 10 entries, with 5 unique dates. The most frequent date is \"2024-01-01\" (2 occurrences).\n",
      "- **Product**: 10 entries, with 5 unique products. The most frequent product is \"Laptop\" (3 occurrences).\n",
      "- **Category**: 10 entries, with 2 unique categories. The most frequent category is \"Electronics\" (5 occurrences).\n",
      "- **Quantity**: \n",
      "  - Mean: 7.3\n",
      "  - Standard Deviation: 3.59\n",
      "  - Minimum: 3\n",
      "  - Maximum: 15\n",
      "- **Revenue**: \n",
      "  - Mean: 4010.00\n",
      "  - Standard Deviation: 2345.42\n",
      "  - Minimum: 1500.00\n",
      "  - Maximum: 7500.00\n",
      "\n",
      "If you need further analysis or visualizations, let me know!\n",
      "\n",
      "Human: Plot the some graph for better understanding of dataset\n"
     ]
    },
    {
     "data": {
      "image/png": "[encoded data removed]",
      "text/plain": [
       "<Figure size 640x480 with 1 Axes>"
      ]
     },
     "metadata": {},
     "output_type": "display_data"
    },
    {
     "data": {
      "image/png": "[encoded data removed]",
      "text/plain": [
       "<Figure size 640x480 with 1 Axes>"
      ]
     },
     "metadata": {},
     "output_type": "display_data"
    },
    {
     "data": {
      "image/png": "[encoded data removed]",
      "text/plain": [
       "<Figure size 640x480 with 1 Axes>"
      ]
     },
     "metadata": {},
     "output_type": "display_data"
    },
    {
     "name": "stdout",
     "output_type": "stream",
     "text": [
      "Assistant: The following graphs have been created for better understanding of the dataset:\n",
      "\n",
      "1. **Quantity Sold by Product**: A bar chart showing the quantity sold for each product.\n",
      "2. **Revenue Over Time**: A line chart displaying revenue trends over the specified dates.\n",
      "3. **Quantity vs Revenue**: A scatter plot illustrating the relationship between quantity sold and revenue generated.\n",
      "\n",
      "If you need further analysis or specific insights from these graphs, let me know!\n",
      "\n",
      "Human: what can you make it out from dataset?\n",
      "Assistant: From the dataset, we can derive several insights:\n",
      "\n",
      "1. **Product Performance**:\n",
      "   - The \"Laptop\" product has the highest sales volume, indicating it is a popular choice among customers.\n",
      "   - Other products may need marketing efforts to boost their sales.\n",
      "\n",
      "2. **Revenue Insights**:\n",
      "   - The average revenue is relatively high, suggesting that the products sold are priced well, or that higher-priced items are being sold.\n",
      "   - There are significant variations in revenue, indicating that some sales are much larger than others, possibly due to bulk purchases or high-value items.\n",
      "\n",
      "3. **Sales Trends**:\n",
      "   - If the revenue over time shows an upward trend, it could indicate growing demand or successful marketing strategies.\n",
      "   - If there are dips in revenue on certain dates, it may warrant further investigation into external factors affecting sales.\n",
      "\n",
      "4. **Quantity and Revenue Relationship**:\n",
      "   - A positive correlation between quantity sold and revenue suggests that higher sales volumes lead to increased revenue, which is typical in retail.\n",
      "\n",
      "5. **Category Insights**:\n",
      "   - The dominance of the \"Electronics\" category suggests a strong market presence in this area, and it may be beneficial to explore expanding product lines within this category.\n",
      "\n",
      "These insights can guide strategic decisions such as inventory management, marketing focus, and product development. If you need more specific analyses or visualizations, please let me know!\n",
      "\n",
      "Human: quit\n",
      " Exiting chat.\n"
     ]
    }
   ],
   "source": [
    "\n",
    "# Continuous chat loop stop with 'quit' / 'exit' / 'q'\n",
    "def chat_loop(quit_words=(\"quit\",\"exit\",\"q\")):\n",
    "    print(\"Chat ready. Type your message. Type 'quit' to stop.\")\n",
    "    history: List[BaseMessage] = []\n",
    "    while True:\n",
    "        try:\n",
    "            user = input(\"You: \").strip()\n",
    "            print(\"Human: \" + user )\n",
    "        except (EOFError, KeyboardInterrupt):\n",
    "            print(\"\\nExiting chat.\")\n",
    "            break\n",
    "        if user.lower() in quit_words:\n",
    "            print(\"Exiting chat.\")\n",
    "            break\n",
    "        history = run_turn(user, history)\n",
    "        # Print last assistant message\n",
    "        reply = history[-1].content if history and hasattr(history[-1], \"content\") else \"(no reply)\"\n",
    "        print(f\"Assistant: {reply}\\n\")\n",
    "\n",
    "# Start the conversation\n",
    "chat_loop()\n"
   ]
  },
  {
   "cell_type": "code",
   "execution_count": null,
   "id": "1419b947",
   "metadata": {},
   "outputs": [],
   "source": []
  }
 ],
 "metadata": {
  "kernelspec": {
   "display_name": "base",
   "language": "python",
   "name": "python3"
  },
  "language_info": {
   "codemirror_mode": {
    "name": "ipython",
    "version": 3
   },
   "file_extension": ".py",
   "mimetype": "text/x-python",
   "name": "python",
   "nbconvert_exporter": "python",
   "pygments_lexer": "ipython3",
   "version": "3.11.9"
  }
 },
 "nbformat": 4,
 "nbformat_minor": 5
}
